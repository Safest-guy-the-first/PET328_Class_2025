{
 "cells": [
  {
   "cell_type": "markdown",
   "id": "a5846459",
   "metadata": {},
   "source": [
    "# Oyem David – PET328 Problem Set 1\n",
    "This notebook contains solutions to Problem Set 1 from the PET328 course, based on the Volve field dataset."
   ]
  },
  {
   "cell_type": "markdown",
   "id": "595a9f79",
   "metadata": {},
   "source": [
    "## Section 1: Import Dataset"
   ]
  },
  {
   "cell_type": "code",
   "execution_count": null,
   "id": "58f0c90d",
   "metadata": {},
   "outputs": [],
   "source": [
    "csv_url = \"https://raw.githubusercontent.com/TTOWG/PET328_Class_2025/main/volve_welldata.csv\""
   ]
  },
  {
   "cell_type": "code",
   "execution_count": null,
   "id": "26435da0",
   "metadata": {},
   "outputs": [],
   "source": [
    "import pandas as pd\n",
    "\n",
    "volve_welldata = pd.read_csv(csv_url)\n",
    "volve_welldata.head()"
   ]
  },
  {
   "cell_type": "markdown",
   "id": "ccaa8367",
   "metadata": {},
   "source": [
    "## Section 2: Basic Dataset Information"
   ]
  },
  {
   "cell_type": "code",
   "execution_count": null,
   "id": "2ceaa57a",
   "metadata": {},
   "outputs": [],
   "source": [
    "rows_list = [row for row in volve_welldata.itertuples()]\n",
    "cols_list = list(volve_welldata)\n",
    "\n",
    "choice = input(\"Type 'rows', 'columns', or 'both': \").lower()\n",
    "\n",
    "if choice == 'rows':\n",
    "    print(f\"Number of rows: {len(rows_list)}\")\n",
    "elif choice == 'columns':\n",
    "    print(f\"Number of columns: {len(cols_list)}\")\n",
    "elif choice == 'both':\n",
    "    print(f\"Dataset has {len(rows_list)} rows and {len(cols_list)} columns\")\n",
    "else:\n",
    "    print(\"Invalid input.\")"
   ]
  },
  {
   "cell_type": "code",
   "execution_count": null,
   "id": "e874deee",
   "metadata": {},
   "outputs": [],
   "source": [
    "col_names = volve_welldata.columns\n",
    "\n",
    "for col in col_names:\n",
    "    print(f\"{col}: {volve_welldata[col].dtype}\")"
   ]
  },
  {
   "cell_type": "markdown",
   "id": "1d89b11e",
   "metadata": {},
   "source": [
    "## Section 3: Detect Missing Values"
   ]
  },
  {
   "cell_type": "code",
   "execution_count": null,
   "id": "dd103fed",
   "metadata": {},
   "outputs": [],
   "source": [
    "col_name = input(\"Enter column name to check for missing values: \")\n",
    "\n",
    "if col_name in volve_welldata.columns:\n",
    "    missing_count = volve_welldata[col_name].isna().sum()\n",
    "    print(f\"Missing values in '{col_name}': {missing_count}\")\n",
    "else:\n",
    "    print(\"Invalid column name.\")"
   ]
  },
  {
   "cell_type": "markdown",
   "id": "8075ac52",
   "metadata": {},
   "source": [
    "## Section 4: Subset Data for Specific Well"
   ]
  },
  {
   "cell_type": "code",
   "execution_count": null,
   "id": "448b6922",
   "metadata": {},
   "outputs": [],
   "source": [
    "well_name = input(\"Enter well name: \")\n",
    "\n",
    "if well_name in volve_welldata['Wellbore name'].unique():\n",
    "    well_data = volve_welldata[volve_welldata['Wellbore name'] == well_name]\n",
    "    print(f\"Extracted {len(well_data)} rows for well '{well_name}'.\")\n",
    "else:\n",
    "    print(\"Well not found.\")"
   ]
  },
  {
   "cell_type": "markdown",
   "id": "43a8fc94",
   "metadata": {},
   "source": [
    "## Section 5: Handle Missing Values"
   ]
  },
  {
   "cell_type": "code",
   "execution_count": null,
   "id": "158f933c",
   "metadata": {},
   "outputs": [],
   "source": [
    "import numpy as np\n",
    "\n",
    "column = input(\"Enter numeric column name to fill missing values: \")\n",
    "\n",
    "if column in volve_welldata.columns:\n",
    "    if pd.api.types.is_numeric_dtype(volve_welldata[column]):\n",
    "        mean_val = volve_welldata[column].mean()\n",
    "        print(f\"Filling NaNs in '{column}' with mean: {mean_val:.2f}\")\n",
    "        volve_welldata[column].fillna(mean_val, inplace=True)\n",
    "        print(f\"Missing values after fill: {volve_welldata[column].isna().sum()}\")\n",
    "    else:\n",
    "        print(\"Column is not numeric.\")\n",
    "else:\n",
    "    print(\"Column not found.\")"
   ]
  },
  {
   "cell_type": "markdown",
   "id": "2efc8bf1",
   "metadata": {},
   "source": [
    "## Section 6: Abstraction with Custom Functions"
   ]
  },
  {
   "cell_type": "code",
   "execution_count": null,
   "id": "3b900793",
   "metadata": {},
   "outputs": [],
   "source": [
    "# Task 6.1: Justification\n",
    "# Yes, creating a custom function improves reusability and cleanliness of code.\n",
    "\n",
    "# Task 6.2: Function to count missing\n",
    "def count_missing(dataframe, column_name):\n",
    "    if column_name in dataframe.columns:\n",
    "        return dataframe[column_name].isna().sum()\n",
    "    else:\n",
    "        return \"Invalid column.\"\n",
    "\n",
    "user_column = input(\"Enter column name to count missing values: \")\n",
    "print(f\"Missing values: {count_missing(volve_welldata, user_column)}\")"
   ]
  }
 ],
 "metadata": {},
 "nbformat": 4,
 "nbformat_minor": 5
}