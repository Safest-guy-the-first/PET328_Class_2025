{
 "cells": [
  {
   "cell_type": "markdown",
   "id": "e01da4d6",
   "metadata": {},
   "source": [
    "# Assignment 5: Gridblock Classification Based on Permeability\n",
    "**Course**: PET 328\n",
    "\n",
    "**Objective**: Classify gridblocks in a 3D discretized reservoir model as 'active' or 'inactive' based on a permeability cut-off. Count the number of active and inactive gridblocks, and report layer-wise active counts and overall active percentage."
   ]
  },
  {
   "cell_type": "markdown",
   "id": "bf2d8d0f",
   "metadata": {},
   "source": [
    "### Task 1: Input Reservoir Dimensions"
   ]
  },
  {
   "cell_type": "code",
   "execution_count": null,
   "id": "3e332dcd",
   "metadata": {},
   "outputs": [],
   "source": [
    "# Request for reservoir dimensions and discretization parameters\n",
    "nz = int(input('Enter the number of layers (Nz): '))\n",
    "ny = int(input('Enter the number of rows (Ny): '))\n",
    "nx = int(input('Enter the number of columns (Nx): '))"
   ]
  },
  {
   "cell_type": "markdown",
   "id": "072732a3",
   "metadata": {},
   "source": [
    "### Task 2: Input Cut-off Permeability Value"
   ]
  },
  {
   "cell_type": "code",
   "execution_count": null,
   "id": "55478461",
   "metadata": {},
   "outputs": [],
   "source": [
    "# Request for the cut-off permeability value\n",
    "cutoff = float(input('Enter the permeability cut-off value: '))"
   ]
  },
  {
   "cell_type": "markdown",
   "id": "c8b1bc74",
   "metadata": {},
   "source": [
    "### Task 3: Initialize Counters"
   ]
  },
  {
   "cell_type": "code",
   "execution_count": null,
   "id": "5d34770f",
   "metadata": {},
   "outputs": [],
   "source": [
    "# Initialize counters for active and inactive gridblocks\n",
    "total_active = 0\n",
    "total_inactive = 0"
   ]
  },
  {
   "cell_type": "markdown",
   "id": "a765fe75",
   "metadata": {},
   "source": [
    "### Task 4: Classify Gridblocks and Count Active Ones Per Layer"
   ]
  },
  {
   "cell_type": "code",
   "execution_count": null,
   "id": "7cfbef17",
   "metadata": {},
   "outputs": [],
   "source": [
    "# Loop through layers, rows, and columns\n",
    "for k in range(1, nz+1):\n",
    "    active_in_layer = 0\n",
    "    for j in range(1, ny+1):\n",
    "        for i in range(1, nx+1):\n",
    "            perm = float(input(f'Enter permeability at Layer {k}, Row {j}, Column {i}: '))\n",
    "            if perm >= cutoff:\n",
    "                total_active += 1\n",
    "                active_in_layer += 1\n",
    "            else:\n",
    "                total_inactive += 1\n",
    "    print(f'Layer {k}: Active gridblocks = {active_in_layer}')"
   ]
  },
  {
   "cell_type": "markdown",
   "id": "3c05dfe2",
   "metadata": {},
   "source": [
    "### Task 5: Print Overall Results"
   ]
  },
  {
   "cell_type": "code",
   "execution_count": null,
   "id": "bdc33708",
   "metadata": {},
   "outputs": [],
   "source": [
    "# Calculate and print total and percentage of active gridblocks\n",
    "total_blocks = nz * ny * nx\n",
    "active_percent = (total_active / total_blocks) * 100\n",
    "print(f'Total active gridblocks: {total_active}')\n",
    "print(f'Total inactive gridblocks: {total_inactive}')\n",
    "print(f'Percentage of active gridblocks: {active_percent:.2f}%')"
   ]
  }
 ],
 "metadata": {},
 "nbformat": 4,
 "nbformat_minor": 5
}
